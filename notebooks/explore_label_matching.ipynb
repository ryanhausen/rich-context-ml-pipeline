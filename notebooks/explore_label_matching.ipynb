{
 "cells": [
  {
   "cell_type": "markdown",
   "metadata": {},
   "source": [
    "# Label Extraction and String Matching Methods\n",
    "\n",
    "This notebook explores the label extraction and string matching methods used by\n",
    "the participants in the [Kaggle competition](https://www.kaggle.com/competitions/coleridgeinitiative-show-us-the-data/). We'd like to synthesize the\n",
    "techniques into a single coherent process that can be built upon."
   ]
  },
  {
   "cell_type": "code",
   "execution_count": 2,
   "metadata": {},
   "outputs": [
    {
     "name": "stderr",
     "output_type": "stream",
     "text": [
      "/home/ryanhausen/anaconda3/envs/rc-ml-pipeline/lib/python3.9/site-packages/tqdm/auto.py:22: TqdmWarning: IProgress not found. Please update jupyter and ipywidgets. See https://ipywidgets.readthedocs.io/en/stable/user_install.html\n",
      "  from .autonotebook import tqdm as notebook_tqdm\n"
     ]
    }
   ],
   "source": [
    "import json\n",
    "import ml_pipeline.data.sqlite_source as repo\n",
    "import spacy\n",
    "\n",
    "\n",
    "\n",
    "\n",
    "\n"
   ]
  },
  {
   "cell_type": "code",
   "execution_count": null,
   "metadata": {},
   "outputs": [],
   "source": []
  }
 ],
 "metadata": {
  "kernelspec": {
   "display_name": "Python 3.9.13 ('rc-ml-pipeline')",
   "language": "python",
   "name": "python3"
  },
  "language_info": {
   "codemirror_mode": {
    "name": "ipython",
    "version": 3
   },
   "file_extension": ".py",
   "mimetype": "text/x-python",
   "name": "python",
   "nbconvert_exporter": "python",
   "pygments_lexer": "ipython3",
   "version": "3.9.13"
  },
  "orig_nbformat": 4,
  "vscode": {
   "interpreter": {
    "hash": "727302bc47a7ec9b2a79b58cba87230e5c36050d6a0887539250360573400d86"
   }
  }
 },
 "nbformat": 4,
 "nbformat_minor": 2
}
