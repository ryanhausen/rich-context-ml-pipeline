{
 "cells": [
  {
   "cell_type": "markdown",
   "metadata": {},
   "source": [
    "# This notebook prototypes masking organizations/proper nouns/dataset names for training a binary classifier"
   ]
  },
  {
   "cell_type": "code",
   "execution_count": null,
   "metadata": {},
   "outputs": [],
   "source": []
  },
  {
   "cell_type": "code",
   "execution_count": 1,
   "metadata": {},
   "outputs": [],
   "source": [
    "import json\n",
    "\n",
    "import pandas as pd\n",
    "import spacy\n",
    "\n",
    "nlp = spacy.load(\"en_core_web_trf\")\n",
    "from spacy import displacy"
   ]
  },
  {
   "cell_type": "code",
   "execution_count": 2,
   "metadata": {},
   "outputs": [],
   "source": [
    "training_labels = pd.read_csv(\"../ml_pipeline/data/kaggle/train.csv\")"
   ]
  },
  {
   "cell_type": "code",
   "execution_count": 3,
   "metadata": {},
   "outputs": [
    {
     "name": "stdout",
     "output_type": "stream",
     "text": [
      "Index(['Id', 'pub_title', 'dataset_title', 'dataset_label', 'cleaned_label'], dtype='object')\n",
      "19661\n"
     ]
    }
   ],
   "source": [
    "print(training_labels.columns)\n",
    "print(len(training_labels))"
   ]
  },
  {
   "cell_type": "code",
   "execution_count": 4,
   "metadata": {},
   "outputs": [
    {
     "data": {
      "text/html": [
       "<div>\n",
       "<style scoped>\n",
       "    .dataframe tbody tr th:only-of-type {\n",
       "        vertical-align: middle;\n",
       "    }\n",
       "\n",
       "    .dataframe tbody tr th {\n",
       "        vertical-align: top;\n",
       "    }\n",
       "\n",
       "    .dataframe thead th {\n",
       "        text-align: right;\n",
       "    }\n",
       "</style>\n",
       "<table border=\"1\" class=\"dataframe\">\n",
       "  <thead>\n",
       "    <tr style=\"text-align: right;\">\n",
       "      <th></th>\n",
       "      <th>Id</th>\n",
       "      <th>dataset_title</th>\n",
       "      <th>dataset_label</th>\n",
       "    </tr>\n",
       "  </thead>\n",
       "  <tbody>\n",
       "    <tr>\n",
       "      <th>293</th>\n",
       "      <td>f70051bf-a763-415b-aa66-97ae57f2efc1</td>\n",
       "      <td>NOAA Tide Gauge</td>\n",
       "      <td>NOAA tidal station</td>\n",
       "    </tr>\n",
       "    <tr>\n",
       "      <th>294</th>\n",
       "      <td>0d4e13ca-47ec-4827-b814-a39e5b8fede3</td>\n",
       "      <td>NOAA Tide Gauge</td>\n",
       "      <td>NOAA tidal station</td>\n",
       "    </tr>\n",
       "    <tr>\n",
       "      <th>295</th>\n",
       "      <td>c5cf06e5-182f-4c33-bf15-e06a0d353efd</td>\n",
       "      <td>NOAA Tide Gauge</td>\n",
       "      <td>NOAA tidal station</td>\n",
       "    </tr>\n",
       "    <tr>\n",
       "      <th>296</th>\n",
       "      <td>da25e497-208d-4ed5-9c51-37c69a5524d3</td>\n",
       "      <td>NOAA Tide Gauge</td>\n",
       "      <td>NOAA tidal station</td>\n",
       "    </tr>\n",
       "    <tr>\n",
       "      <th>297</th>\n",
       "      <td>50d6879b-1c6b-4434-965e-19a7271e8c49</td>\n",
       "      <td>NOAA Tide Gauge</td>\n",
       "      <td>NOAA tidal station</td>\n",
       "    </tr>\n",
       "    <tr>\n",
       "      <th>...</th>\n",
       "      <td>...</td>\n",
       "      <td>...</td>\n",
       "      <td>...</td>\n",
       "    </tr>\n",
       "    <tr>\n",
       "      <th>19654</th>\n",
       "      <td>f89dd9fa-07af-4384-aa0c-0d14602c0cea</td>\n",
       "      <td>RSNA International COVID-19 Open Radiology Dat...</td>\n",
       "      <td>RSNA International COVID-19 Open Radiology Dat...</td>\n",
       "    </tr>\n",
       "    <tr>\n",
       "      <th>19655</th>\n",
       "      <td>922a5f2c-2d1c-46a7-a07a-acaf2222c0c6</td>\n",
       "      <td>RSNA International COVID-19 Open Radiology Dat...</td>\n",
       "      <td>RSNA International COVID-19 Open Radiology Dat...</td>\n",
       "    </tr>\n",
       "    <tr>\n",
       "      <th>19656</th>\n",
       "      <td>b3498176-8832-4033-aea6-b5ea85ea04c4</td>\n",
       "      <td>RSNA International COVID-19 Open Radiology Dat...</td>\n",
       "      <td>RSNA International COVID Open Radiology Database</td>\n",
       "    </tr>\n",
       "    <tr>\n",
       "      <th>19659</th>\n",
       "      <td>fd23e7e0-a5d2-4f98-992d-9209c85153bb</td>\n",
       "      <td>CAS COVID-19 antiviral candidate compounds dat...</td>\n",
       "      <td>CAS COVID-19 antiviral candidate compounds dat...</td>\n",
       "    </tr>\n",
       "    <tr>\n",
       "      <th>19660</th>\n",
       "      <td>fd23e7e0-a5d2-4f98-992d-9209c85153bb</td>\n",
       "      <td>CAS COVID-19 antiviral candidate compounds dat...</td>\n",
       "      <td>CAS COVID-19 antiviral candidate compounds data</td>\n",
       "    </tr>\n",
       "  </tbody>\n",
       "</table>\n",
       "<p>8240 rows × 3 columns</p>\n",
       "</div>"
      ],
      "text/plain": [
       "                                         Id  \\\n",
       "293    f70051bf-a763-415b-aa66-97ae57f2efc1   \n",
       "294    0d4e13ca-47ec-4827-b814-a39e5b8fede3   \n",
       "295    c5cf06e5-182f-4c33-bf15-e06a0d353efd   \n",
       "296    da25e497-208d-4ed5-9c51-37c69a5524d3   \n",
       "297    50d6879b-1c6b-4434-965e-19a7271e8c49   \n",
       "...                                     ...   \n",
       "19654  f89dd9fa-07af-4384-aa0c-0d14602c0cea   \n",
       "19655  922a5f2c-2d1c-46a7-a07a-acaf2222c0c6   \n",
       "19656  b3498176-8832-4033-aea6-b5ea85ea04c4   \n",
       "19659  fd23e7e0-a5d2-4f98-992d-9209c85153bb   \n",
       "19660  fd23e7e0-a5d2-4f98-992d-9209c85153bb   \n",
       "\n",
       "                                           dataset_title  \\\n",
       "293                                      NOAA Tide Gauge   \n",
       "294                                      NOAA Tide Gauge   \n",
       "295                                      NOAA Tide Gauge   \n",
       "296                                      NOAA Tide Gauge   \n",
       "297                                      NOAA Tide Gauge   \n",
       "...                                                  ...   \n",
       "19654  RSNA International COVID-19 Open Radiology Dat...   \n",
       "19655  RSNA International COVID-19 Open Radiology Dat...   \n",
       "19656  RSNA International COVID-19 Open Radiology Dat...   \n",
       "19659  CAS COVID-19 antiviral candidate compounds dat...   \n",
       "19660  CAS COVID-19 antiviral candidate compounds dat...   \n",
       "\n",
       "                                           dataset_label  \n",
       "293                                   NOAA tidal station  \n",
       "294                                   NOAA tidal station  \n",
       "295                                   NOAA tidal station  \n",
       "296                                   NOAA tidal station  \n",
       "297                                   NOAA tidal station  \n",
       "...                                                  ...  \n",
       "19654  RSNA International COVID-19 Open Radiology Dat...  \n",
       "19655  RSNA International COVID-19 Open Radiology Dat...  \n",
       "19656   RSNA International COVID Open Radiology Database  \n",
       "19659  CAS COVID-19 antiviral candidate compounds dat...  \n",
       "19660    CAS COVID-19 antiviral candidate compounds data  \n",
       "\n",
       "[8240 rows x 3 columns]"
      ]
     },
     "execution_count": 4,
     "metadata": {},
     "output_type": "execute_result"
    }
   ],
   "source": [
    "training_labels.loc[training_labels[\"dataset_title\"] != training_labels[\"dataset_label\"], [\"Id\", \"dataset_title\", \"dataset_label\"]]"
   ]
  },
  {
   "cell_type": "markdown",
   "metadata": {},
   "source": [
    "Presumably `dataset_label` exists in the document."
   ]
  },
  {
   "cell_type": "code",
   "execution_count": 6,
   "metadata": {},
   "outputs": [],
   "source": [
    "def get_document_by_id(id):\n",
    "    with open(f\"../ml_pipeline/data/kaggle/train/{id}.json\", \"r\") as f:\n",
    "        return json.load(f)\n",
    "\n",
    "def get_document_text_by_id(id):\n",
    "    document = get_document_by_id(id)\n",
    "    return \" \".join([section[\"text\"] for section in document])\n",
    "\n",
    "def get_document_label_by_id(id):\n",
    "    return training_labels.loc[training_labels[\"Id\"] == id, \"dataset_label\"].values\n",
    "\n",
    "def get_document_and_label_by_id(id):\n",
    "    return get_document_text_by_id(id), get_document_label_by_id(id)"
   ]
  },
  {
   "cell_type": "code",
   "execution_count": 17,
   "metadata": {},
   "outputs": [],
   "source": [
    "doc, lbl = get_document_and_label_by_id(\"f70051bf-a763-415b-aa66-97ae57f2efc1\")\n",
    "processed_doc = nlp(doc)"
   ]
  },
  {
   "cell_type": "code",
   "execution_count": 22,
   "metadata": {},
   "outputs": [
    {
     "data": {
      "text/plain": [
       "array(['NOAA tidal station'], dtype=object)"
      ]
     },
     "execution_count": 22,
     "metadata": {},
     "output_type": "execute_result"
    }
   ],
   "source": [
    "lbl"
   ]
  },
  {
   "cell_type": "code",
   "execution_count": 40,
   "metadata": {},
   "outputs": [],
   "source": [
    "def label_in_snippet(snippet:str, processed_label) -> bool:\n",
    "    # This is pretty much the goal of the whole project, so it's a bit tricky\n",
    "\n",
    "    expansion, acronym = processed_label\n",
    "    if acronym:\n",
    "        complete_label = expansion + \" (\" + acronym + \")\"\n",
    "    else:\n",
    "        complete_label = expansion\n",
    "\n",
    "    if complete_label in snippet:\n",
    "        print(\"complete_label\")\n",
    "        return True\n",
    "\n",
    "    if expansion in snippet:\n",
    "        print(\"expansion\")\n",
    "        return True\n",
    "\n",
    "    if acronym and acronym in snippet:\n",
    "        print(\"acronym\")\n",
    "        return True\n",
    "\n",
    "    return False\n",
    "\n",
    "\n",
    "def split_document_into_snippets(\n",
    "    document,\n",
    "    n_sentences_per_snippet:int,\n",
    "):\n",
    "    document, label = document\n",
    "\n",
    "    processed = nlp(text_only)\n",
    "\n",
    "    snippets = []\n",
    "    for i in range(0, len(processed.sents), n_sentences_per_snippet):\n",
    "        snippet = processed.sents[i:i+n_sentences_per_snippet].text\n",
    "        snippets.append(snippet)        \n",
    "\n",
    "    return snippets"
   ]
  },
  {
   "cell_type": "code",
   "execution_count": 20,
   "metadata": {},
   "outputs": [],
   "source": [
    "\n",
    "n_sentences_per_snippet = 3\n",
    "snippets = []\n",
    "tmp_snippet = []\n",
    "for i, s in enumerate(processed_doc.sents):\n",
    "    if i % n_sentences_per_snippet == 0:\n",
    "        if tmp_snippet:\n",
    "            snippets.append(\" \".join(tmp_snippet))\n",
    "        tmp_snippet = []\n",
    "    tmp_snippet.append(s.text.strip())   "
   ]
  },
  {
   "cell_type": "code",
   "execution_count": 45,
   "metadata": {},
   "outputs": [
    {
     "name": "stdout",
     "output_type": "stream",
     "text": [
      "----NOAA tidal station----\n",
      "complete_label\n",
      "The multi-parameter sonde was used to collect synoptic vertical profile of water quality within the screened monitoring well intervals by lowering the sensor to the bottom and stopping at pre-determined intervals until parameters stabilized. Verification of water-column height above a transducer was done by collecting a depth to water less than 1 minute before the scheduled sample collection. The datum used in this report is Port Townsend Bay Mean Lower Low Water (MLLW) tidal level at NOAA tidal station 9444900 (National Oceanic and Atmospheric Administration, 2018).\n",
      "\n",
      "complete_label\n",
      "In 2012, the Navy contracted a survey of the monitoring wells (top-of-casing) and two control points, CP1 and CP2, referencing mean sea level (MSL). CP2 survey information states that vertical control was derived from photogrammetric survey control referencing Port Townsend Bay MLLW tidal level at NOAA tidal station 9444900 (Sealaska Environmental, 2012) . The difference between NOAA tidal station 9444900 MSL and the MLLW datum is 5.00 ft (https://tidesandcurrents.noaa.gov/datums.html?id=9444900); therefore, a +5.00 ft offset was added to discrete and continuous monitoring well water-level data to reference NOAA tidal station 9444900 MLLW datum.\n",
      "\n"
     ]
    }
   ],
   "source": [
    "print(f\"----{lbl[0]}----\")\n",
    "for snippet in snippets:\n",
    "    modified_lbl = (lbl[0], \"\")\n",
    "    found = label_in_snippet(snippet, modified_lbl)\n",
    "    if found:\n",
    "        \n",
    "        print(snippet)\n",
    "        print(\"\")"
   ]
  }
 ],
 "metadata": {
  "kernelspec": {
   "display_name": "Python 3.9.15 ('rc_ml_pipeline')",
   "language": "python",
   "name": "python3"
  },
  "language_info": {
   "codemirror_mode": {
    "name": "ipython",
    "version": 3
   },
   "file_extension": ".py",
   "mimetype": "text/x-python",
   "name": "python",
   "nbconvert_exporter": "python",
   "pygments_lexer": "ipython3",
   "version": "3.9.15"
  },
  "orig_nbformat": 4,
  "vscode": {
   "interpreter": {
    "hash": "e9256266a9f70a72c2d626b4410f20aa2425c4a1ee6a13a43ee274f81f57fda7"
   }
  }
 },
 "nbformat": 4,
 "nbformat_minor": 2
}
